{
 "cells": [
  {
   "cell_type": "markdown",
   "metadata": {},
   "source": [
    "# Timbre Documentation\n",
    "\n",
    "The timbre package enables one to calculate the required contiguous cold time to balance a specified hot observation, or alternatively the maximum contiguous hot time yielded by a given cold observation, for a given Xija thermal model.\n",
    "\n",
    "The primary purpose of this package is to enable the Chandra SOT Mission Planning Team to estimate the required mix of observations that will yield a feasible schedule, without depending on past dwell profiles that may no longer be relevant for future schedules."
   ]
  },
  {
   "cell_type": "markdown",
   "metadata": {},
   "source": [
    "## Introduction\n",
    "\n",
    "As Chandra's external thermal protective surfaces degrade over time, resulting in steadily increasing heat absorption from the sun, the duration at which Chandra can reside in any given orientation to the sun before reaching a temperature limit generally decreases. A set of temperature measurements within Chandra are used to represent thermal performance of key components throughout the vehicle. Predictive Xija models are maintained for these temperature measurements to enable SOT and FOT Mission Planning to plan observation schedules that maintain temperatures within specified limits. These limits are set based on original qualification testing, material-based capability, or other performance-based criteria, and are re-evaluated periodically to balance scheduling challenges with vehicle performance towards optimizing science goals. \n",
    "\n",
    "Occasionally, new locations need to be added to this set of modeled components, resulting in new planning challenges and rendering past dwell profiles incompatible with future scheduling requirements. The strategy Timbre uses to determine dwell time is independent of past profiles, and is therefore more flexible than approaches that had worked well earlier in the mission. This documentation will first review how to run Timbre, then will delve into how Timbre works."
   ]
  },
  {
   "cell_type": "markdown",
   "metadata": {},
   "source": [
    "## Basic Usage\n",
    "\n",
    "The example below represents a situation where one has a 21500 second hot dwell at 90.2 degrees pitch that they want to include in a schedule near January 1st, 2021. They want to know how much time at 148.95 degrees pitch that should be included in the schedule to balance this hot dwell from an ACA perspective.\n",
    "\n",
    "### Package Imports"
   ]
  },
  {
   "cell_type": "code",
   "execution_count": 1,
   "metadata": {},
   "outputs": [],
   "source": [
    "from cxotime import CxoTime\n",
    "from timbre import get_local_model, find_second_dwell"
   ]
  },
  {
   "cell_type": "markdown",
   "metadata": {},
   "source": [
    "### Define Model Information\n",
    "\n",
    "This information defines the model being used, as well as initial starting conditions. These starting conditions do not significantly impact the results, however it is good practice to set them to be close to realistic values."
   ]
  },
  {
   "cell_type": "code",
   "execution_count": 2,
   "metadata": {},
   "outputs": [],
   "source": [
    "msid = 'aacccdpt'\n",
    "limit = -6.5\n",
    "date = '2021:001:00:00:00'\n",
    "aca_model_spec, aca_md5 = get_local_model('./timbre/tests/data/aca_spec.json')\n",
    "model_init = {'aacccdpt': -6.5, 'aca0': -6.5, 'eclipse': False}"
   ]
  },
  {
   "cell_type": "markdown",
   "metadata": {},
   "source": [
    "### Define Dwell #1 Information\n",
    "\n",
    "Define the state information for the observation that one wants to balance. This could be a known hot dwell to be included in a schedule. For the ACA model, we only need to define dwell time and pitch. Other models may need to have more infomration defined. For example, the DPA model would need FEP count, CCD count, SIM position, clocking state, and vid board state defined. Any information that the Xija model needs to run, that isn't defined in `model_init` needs to be defined in each of the dwell state definitions, `dwell1_state` and `dwell2_state`."
   ]
  },
  {
   "cell_type": "code",
   "execution_count": 3,
   "metadata": {},
   "outputs": [],
   "source": [
    "t_dwell1 = 21500. # Seconds\n",
    "dwell1_state = {'pitch': 90.2}"
   ]
  },
  {
   "cell_type": "markdown",
   "metadata": {},
   "source": [
    "### Define Dwell #2 Information\n",
    "\n",
    "This state can be considered a candidiate balancing dwell, such as a cooling attitude one wants to use to balance a hot attitude. In this case we want to calculate the cold time necessary to balance the hot dwell 1 state, so we don't define time this as in input parameter. As with `dwell1_state`, `dwell2_state` still needs all information necessary to run the underlying Xija model."
   ]
  },
  {
   "cell_type": "code",
   "execution_count": 4,
   "metadata": {},
   "outputs": [],
   "source": [
    "dwell2_state = {'pitch': 148.95}"
   ]
  },
  {
   "cell_type": "markdown",
   "metadata": {},
   "source": [
    "### Calculate Dwell #2 Time"
   ]
  },
  {
   "cell_type": "code",
   "execution_count": 5,
   "metadata": {},
   "outputs": [],
   "source": [
    "results = find_second_dwell(date, dwell1_state, dwell2_state, t_dwell1, msid, limit, aca_model_spec, model_init, limit_type='max')"
   ]
  },
  {
   "cell_type": "markdown",
   "metadata": {},
   "source": [
    "### Explanation of Results\n",
    "\n",
    "The following information is returned by `find_second_dwell`:\n",
    " - `converged`: This is a boolean value that indicates whether or not a solution was possible. Solutions will not be possible in a number of situations:\n",
    "  - Both dwells heat the location being modeled.\n",
    "  - Both dwells cool the location being modeled.\n",
    "  - One of the states defined results in a temperature that neither sufficiently heats or cools the location being modeled (this will sometimes converge but not always reliably).\n",
    "  - The `dwell1_state` is hot and its dwell is long enough to heat this location from a steady state cold temperature to the specified hot limit, assuming the location is associated with a maximum temperature limit. In the case where a location is associated with a minimum temperature limit (e.g. PLINE03T), the opposite would apply, the `dwell1_state` is cold and is long enough to cool this location from a steady state hot temperture to the specified cold limit.\n",
    " - `unconverged_hot`: If the solution didn't converge, this will be `True` if the input values resulted in temperatures outside (e.g. above) the specified limit.\n",
    " - `unconverged_cold`: If the solution didn't converge, this will be `True` if the input values resulted in all temperatures within (e.g. below) the specified limit.\n",
    " - `min_temp`: This is the minimum temperature observed during the simulation (latter 2/3 actually to allow the model to reach a repeatable pattern - more on this later). This will be the limit for a converged solution in the case where the location is associated with a minimum temperature limit (e.g. PLINE03T).\n",
    " - `mean_temp`: This is the mean temperature observed during the simulation (latter 2/3)\n",
    " - `max_temp`: This is the maximum temperature observed during the simulation (latter 2/3). This will be the limit for a converged solution with a maximum temperature limit (e.g. AACCCDPT).\n",
    " - `temperature_limit`: This is the limit being used.\n",
    " - **`dwell2_time`: The dwell #2 time is what you are looking to calculate, and represents the dwell #2 state duration that balances the dwell #1 state at the specified duration, `t_dwell1`.**\n",
    " - `min_pseudo`: This is the min pseudo node temperature observed during the evaluated portion of the simulation. This is not implemented yet but is intended to eventually yield additional insight into the results.\n",
    " - `mean_pseudo`: This is the mean pseudo node temperature observed during the evaluated portion of the simulation. This is not implemented yet.\n",
    " - `max_pseudo`: This is the max pseudo node temperature observed during the evaluated portion of the simulation. This is not implemented yet.\n",
    " - `hotter_state`: This is an integer indicating which state is hotter, 1 or 2.\n",
    " - `colder_state`: This is an integer indicating which state is colder, 1 or 2, and is actually redundant with `hotter_state`.\n"
   ]
  },
  {
   "cell_type": "code",
   "execution_count": 6,
   "metadata": {},
   "outputs": [
    {
     "data": {
      "text/plain": [
       "{'converged': True,\n",
       " 'unconverged_hot': False,\n",
       " 'unconverged_cold': False,\n",
       " 'min_temp': -7.276062645249995,\n",
       " 'mean_temp': -6.856483123898791,\n",
       " 'max_temp': -6.5,\n",
       " 'temperature_limit': -6.5,\n",
       " 'dwell_2_time': 53894.85392717416,\n",
       " 'min_pseudo': nan,\n",
       " 'mean_pseudo': nan,\n",
       " 'max_pseudo': nan,\n",
       " 'hotter_state': 1,\n",
       " 'colder_state': 2}"
      ]
     },
     "execution_count": 6,
     "metadata": {},
     "output_type": "execute_result"
    }
   ],
   "source": [
    "results"
   ]
  },
  {
   "cell_type": "markdown",
   "metadata": {},
   "source": [
    "## Intermediate Usage\n",
    "\n",
    "Multiple sets of cases can be run using a single function call, simplifying the generation of larger datasets."
   ]
  },
  {
   "cell_type": "markdown",
   "metadata": {},
   "source": [
    "### Package Imports\n",
    "\n",
    "The only difference from above is the import of `run_state_pairs` and `numpy`."
   ]
  },
  {
   "cell_type": "code",
   "execution_count": 7,
   "metadata": {},
   "outputs": [],
   "source": [
    "import numpy as np\n",
    "from cxotime import CxoTime\n",
    "from timbre import get_local_model, run_state_pairs"
   ]
  },
  {
   "cell_type": "markdown",
   "metadata": {},
   "source": [
    "### Define Model Information\n",
    "\n",
    "This is the same setup as used above."
   ]
  },
  {
   "cell_type": "code",
   "execution_count": 8,
   "metadata": {},
   "outputs": [],
   "source": [
    "msid = 'aacccdpt'\n",
    "limit = -6.5\n",
    "date = '2021:001:00:00:00'\n",
    "aca_model_spec, aca_md5 = get_local_model('./timbre/tests/data/aca_spec.json')\n",
    "model_init = {'aacccdpt': -6.5, 'aca0': -6.5, 'eclipse': False}\n",
    "t_dwell1 = 21500. # Seconds"
   ]
  },
  {
   "cell_type": "markdown",
   "metadata": {},
   "source": [
    "### Define Dwell Cases\n",
    "\n",
    "This is the most significant departure from above, instead of defining separate `dwell1_state` and `dwell2_state` dictionary objects for a single case, pairs of `dwell1_state` and `dwell2_state` dictionary objects are combined into a larger data structure. The `run_state_pairs` function will run through this data structure one pair at a time.\n",
    "\n",
    "It should be noted that this set of cases will all use the same initial dwell time `t_dwell1` listed above."
   ]
  },
  {
   "cell_type": "code",
   "execution_count": 9,
   "metadata": {},
   "outputs": [],
   "source": [
    "state_pairs = (({'pitch': 144.2}, {'pitch': 154.95}),\n",
    "               ({'pitch': 90.2}, {'pitch': 148.95}),\n",
    "               ({'pitch': 50}, {'pitch': 140}),\n",
    "               ({'pitch': 90}, {'pitch': 100}),\n",
    "               ({'pitch': 75}, {'pitch': 130}),\n",
    "               ({'pitch': 170}, {'pitch': 90}),\n",
    "               ({'pitch': 90}, {'pitch': 170}))"
   ]
  },
  {
   "cell_type": "markdown",
   "metadata": {},
   "source": [
    "### Defining Return Datatypes\n",
    "\n",
    "When running a single case it is easy to track of the inputs, such as pitch, CCD count, etc., so the data returned by the `find_second_dwell` function does not include this information. When running multiple cases this task can become more challenging. To facilitate easier tracking of this information, the `run_state_pairs` function includes this data with each model result in a Numpy structured array, however one needs to define the data types used for each case to avoid the need to infer data types (to be explicit).\n",
    "\n",
    "In this case (aacccdpt model), there is only one type of information supplied for a given case, pitch. Since there is only one type of information supplied, the dictionary containing this data has only one entry."
   ]
  },
  {
   "cell_type": "code",
   "execution_count": 10,
   "metadata": {},
   "outputs": [],
   "source": [
    "state_pair_dtype = {'pitch': np.float64}"
   ]
  },
  {
   "cell_type": "markdown",
   "metadata": {},
   "source": [
    "### Calculate Results"
   ]
  },
  {
   "cell_type": "code",
   "execution_count": 11,
   "metadata": {},
   "outputs": [
    {
     "name": "stdout",
     "output_type": "stream",
     "text": [
      "Running simulations for state pair #: 1 out of 7.0\n"
     ]
    }
   ],
   "source": [
    "results = run_state_pairs(msid, aca_model_spec, model_init, limit, date, t_dwell1, state_pairs, state_pair_dtype, limit_type='max')"
   ]
  },
  {
   "cell_type": "markdown",
   "metadata": {},
   "source": [
    "### Explanation of Results Format\n",
    "\n",
    "The description of the results shown above is still valid for the similarly named items, however that infomration is still included here for completeness, along with descriptions of the additional included information.\n",
    "\n",
    " - `msid`: This is the MSID that represents the location of interest, and is the primary output of a given model.\n",
    " - `date`: This is the date for which the simulation is applicable.\n",
    " - `datesecs`: This is the same date described by `date` only in seconds using the standard Ska Chandra epoch\n",
    " - `limit`: This is the temperature limit being used.\n",
    " - `tdwell_1`: This is the initial, \"known\", time that corresponds to the dwell #1 state. This is fixed for a batch of `state_pairs`.\n",
    " - **`tdwell_2`: The dwell #2 time is what you are looking to calculate, and represents the dwell #2 state duration that balances the dwell #1 state at the specified duration, `t_dwell1`.**\n",
    " - `min_temp`: This is the minimum temperature observed during the simulation (latter 2/3 actually to allow the model to reach a repeatable pattern - more on this later). This will be the limit for a converged solution in the case where the location is associated with a minimum temperature limit (e.g. PLINE03T).\n",
    " - `mean_temp`: This is the mean temperature observed during the simulation (latter 2/3)\n",
    " - `max_temp`: This is the maximum temperature observed during the simulation (latter 2/3). This will be the limit for a converged solution with a maximum temperature limit (e.g. AACCCDPT).\n",
    " - `min_pseudo`: This is the min pseudo node temperature observed during the evaluated portion of the simulation. This is not implemented yet but is intended to eventually yield additional insight into the results.\n",
    " - `mean_pseudo`: This is the mean pseudo node temperature observed during the evaluated portion of the simulation. This is not implemented yet.\n",
    " - `max_pseudo`: This is the max pseudo node temperature observed during the evaluated portion of the simulation. This is not implemented yet.\n",
    " - `converged`: This is a boolean value that indicates whether or not a solution was possible. Solutions will not be possible in a number of situations:\n",
    "  - Both dwells heat the location being modeled.\n",
    "  - Both dwells cool the location being modeled.\n",
    "  - One of the states defined results in a temperature that neither sufficiently heats or cools the location being modeled (this will sometimes converge but not always reliably).\n",
    "  - The `dwell1_state` is hot and its dwell is long enough to heat this location from a steady state cold temperature to the specified hot limit, assuming the location is associated with a maximum temperature limit. In the case where a location is associated with a minimum temperature limit (e.g. PLINE03T), the opposite would apply, the `dwell1_state` is cold and is long enough to cool this location from a steady state hot temperture to the specified cold limit.\n",
    " - `unconverged_hot`: If the solution didn't converge, this will be `True` if the input values resulted in temperatures outside (e.g. above) the specified limit.\n",
    " - `unconverged_cold`: If the solution didn't converge, this will be `True` if the input values resulted in all temperatures within (e.g. below) the specified limit.\n",
    " - `hotter_state`: This is an integer indicating which state is hotter, 1 or 2.\n",
    " - `colder_state`: This is an integer indicating which state is colder, 1 or 2, and is actually redundant with `hotter_state`.\n",
    " - `pitch1`: This is the pitch used as an input to a given simulation corresponding to the dwell #1 state.\n",
    " - `pitch2`: This is the pitch used as an input to a given simulation corresponding to the dwell #2 state."
   ]
  },
  {
   "cell_type": "code",
   "execution_count": 16,
   "metadata": {
    "scrolled": false
   },
   "outputs": [
    {
     "data": {
      "text/html": [
       "<i>Table length=7</i>\n",
       "<table id=\"table140240775463312\" class=\"table-striped table-bordered table-condensed\">\n",
       "<thead><tr><th>msid</th><th>date</th><th>datesecs</th><th>limit</th><th>t_dwell1</th><th>t_dwell2</th><th>min_temp</th><th>mean_temp</th><th>max_temp</th><th>min_pseudo</th><th>mean_pseudo</th><th>max_pseudo</th><th>converged</th><th>unconverged_hot</th><th>unconverged_cold</th><th>hotter_state</th><th>colder_state</th><th>pitch1</th><th>pitch2</th></tr></thead>\n",
       "<thead><tr><th>bytes20</th><th>bytes8</th><th>float64</th><th>float64</th><th>float64</th><th>float64</th><th>float64</th><th>float64</th><th>float64</th><th>float64</th><th>float64</th><th>float64</th><th>bool</th><th>bool</th><th>bool</th><th>int8</th><th>int8</th><th>float64</th><th>float64</th></tr></thead>\n",
       "<tr><td>aacccdpt</td><td>2021:001</td><td>725846469.184</td><td>-6.5</td><td>21500.0</td><td>nan</td><td>-8.212706424984738</td><td>-8.16203503498664</td><td>-8.12598505268412</td><td>nan</td><td>nan</td><td>nan</td><td>False</td><td>False</td><td>True</td><td>1</td><td>2</td><td>144.2</td><td>154.95</td></tr>\n",
       "<tr><td>aacccdpt</td><td>2021:001</td><td>725846469.184</td><td>-6.5</td><td>21500.0</td><td>53870.62754011239</td><td>-7.279771109600741</td><td>-6.849891467653948</td><td>-6.5</td><td>nan</td><td>nan</td><td>nan</td><td>True</td><td>False</td><td>False</td><td>1</td><td>2</td><td>90.2</td><td>148.95</td></tr>\n",
       "<tr><td>aacccdpt</td><td>2021:001</td><td>725846469.184</td><td>-6.5</td><td>21500.0</td><td>169599.70569586972</td><td>-6.9668546087245</td><td>-6.7302824309235625</td><td>-6.5</td><td>nan</td><td>nan</td><td>nan</td><td>True</td><td>False</td><td>False</td><td>2</td><td>1</td><td>50.0</td><td>140.0</td></tr>\n",
       "<tr><td>aacccdpt</td><td>2021:001</td><td>725846469.184</td><td>-6.5</td><td>21500.0</td><td>nan</td><td>0.811677358583694</td><td>0.86789599342207</td><td>0.9687528012043245</td><td>nan</td><td>nan</td><td>nan</td><td>False</td><td>True</td><td>False</td><td>1</td><td>2</td><td>90.0</td><td>100.0</td></tr>\n",
       "<tr><td>aacccdpt</td><td>2021:001</td><td>725846469.184</td><td>-6.5</td><td>21500.0</td><td>nan</td><td>-2.006907746893717</td><td>-1.933288181771831</td><td>-1.7829173862392442</td><td>nan</td><td>nan</td><td>nan</td><td>False</td><td>True</td><td>False</td><td>1</td><td>2</td><td>75.0</td><td>130.0</td></tr>\n",
       "<tr><td>aacccdpt</td><td>2021:001</td><td>725846469.184</td><td>-6.5</td><td>21500.0</td><td>40794.68504308293</td><td>-7.861238263396663</td><td>-7.200771306828496</td><td>-6.5</td><td>nan</td><td>nan</td><td>nan</td><td>True</td><td>False</td><td>False</td><td>2</td><td>1</td><td>170.0</td><td>90.0</td></tr>\n",
       "<tr><td>aacccdpt</td><td>2021:001</td><td>725846469.184</td><td>-6.5</td><td>21500.0</td><td>10489.298169878562</td><td>-7.0011811125468695</td><td>-6.766428375271685</td><td>-6.5</td><td>nan</td><td>nan</td><td>nan</td><td>True</td><td>False</td><td>False</td><td>1</td><td>2</td><td>90.0</td><td>170.0</td></tr>\n",
       "</table>"
      ],
      "text/plain": [
       "<Table length=7>\n",
       "  msid     date      datesecs    limit  ... colder_state  pitch1  pitch2\n",
       "bytes20   bytes8     float64    float64 ...     int8     float64 float64\n",
       "-------- -------- ------------- ------- ... ------------ ------- -------\n",
       "aacccdpt 2021:001 725846469.184    -6.5 ...            2   144.2  154.95\n",
       "aacccdpt 2021:001 725846469.184    -6.5 ...            2    90.2  148.95\n",
       "aacccdpt 2021:001 725846469.184    -6.5 ...            1    50.0   140.0\n",
       "aacccdpt 2021:001 725846469.184    -6.5 ...            2    90.0   100.0\n",
       "aacccdpt 2021:001 725846469.184    -6.5 ...            2    75.0   130.0\n",
       "aacccdpt 2021:001 725846469.184    -6.5 ...            1   170.0    90.0\n",
       "aacccdpt 2021:001 725846469.184    -6.5 ...            2    90.0   170.0"
      ]
     },
     "execution_count": 16,
     "metadata": {},
     "output_type": "execute_result"
    }
   ],
   "source": [
    "import astropy\n",
    "astropy.table.Table(results)"
   ]
  },
  {
   "cell_type": "markdown",
   "metadata": {},
   "source": [
    "### Discussion of Results\n",
    "\n",
    "Each number corresponds to a row in the above results:\n",
    "1. This simulation included a dwell #1 pitch of 144.2 degrees, and a dwell #2 pitch of 154.95 degrees. Although the first dwell state is warmer, this state does not sufficiently heat this model at the given date to reach the specified limit, so these two states together result in an unconverged cold simulation.\n",
    "2. This simulation included a dwell #1 pitch of 90.2 degrees, and a dwell #2 pitch of 148.95 degrees. This solution converged with a dwell #2 duration of approximately 53871 seconds at 148.95 degrees pitch calculated to sufficiently balance 21500 seconds at 90.2 degrees pitch on 2021:001.\n",
    "3. This simulation included a dwell #1 pitch of 50.0 degrees, and a dwell #2 pitch of 140.0 degrees. This solution converged with a dwell #2 duration of approximately 169600 seconds at 140.0 degrees pitch calculated to sufficiently balance 21500 seconds at 140.0 degrees pitch on 2021:001. Although this condition did result in a solution, the exceedingly long time necessary at the dwell #2 condition would likely not be possible due to other thermal constraints.\n",
    "4. This simulation included a dwell #1 pitch of 90.0 degrees, and a dwell #2 pitch of 100.0 degrees. As both of these states heat this modeled location, no solution is possible.\n",
    "5. This simulation included a dwell #1 pitch of 75.0 degrees, and a dwell #2 pitch of 130.0 degrees. As both of these states heat this modeled location, no solution is possible.\n",
    "6. This simulation included a dwell #1 pitch of 170.0 degrees, and a dwell #2 pitch of 90.0 degrees. This solution converged with a dwell #2 duration of approximately 40795 seconds at 90.0 degrees pitch calculated to sufficiently balance 21500 seconds at 170.0 degrees pitch on 2021:001.\n",
    "7. This simulation included a dwell #1 pitch of 90.0 degrees, and a dwell #2 pitch of 170.0 degrees. This solution converged with a dwell #2 duration of approximately 10489 seconds at 170.0 degrees pitch calculated to sufficiently balance 21500 seconds at 90.0 degrees pitch on 2021:001.\n"
   ]
  },
  {
   "cell_type": "code",
   "execution_count": 17,
   "metadata": {},
   "outputs": [],
   "source": [
    "t = astropy.table.Table(results)"
   ]
  },
  {
   "cell_type": "code",
   "execution_count": 19,
   "metadata": {},
   "outputs": [
    {
     "data": {
      "text/plain": [
       "astropy.table.pprint.TableFormatter"
      ]
     },
     "execution_count": 19,
     "metadata": {},
     "output_type": "execute_result"
    }
   ],
   "source": [
    "t.remove_rows"
   ]
  },
  {
   "cell_type": "code",
   "execution_count": null,
   "metadata": {},
   "outputs": [],
   "source": []
  }
 ],
 "metadata": {
  "kernelspec": {
   "display_name": "Python [conda env:ska3] *",
   "language": "python",
   "name": "conda-env-ska3-py"
  },
  "language_info": {
   "codemirror_mode": {
    "name": "ipython",
    "version": 3
   },
   "file_extension": ".py",
   "mimetype": "text/x-python",
   "name": "python",
   "nbconvert_exporter": "python",
   "pygments_lexer": "ipython3",
   "version": "3.8.3"
  }
 },
 "nbformat": 4,
 "nbformat_minor": 4
}
